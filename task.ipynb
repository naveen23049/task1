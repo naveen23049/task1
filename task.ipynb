{
 "cells": [
  {
   "cell_type": "markdown",
   "id": "e9dcf195",
   "metadata": {},
   "source": [
    "# 1) Try to extract data from index one to index one to index 300 with a jump                of 3 "
   ]
  },
  {
   "cell_type": "code",
   "execution_count": 9,
   "id": "194f3ed9",
   "metadata": {},
   "outputs": [],
   "source": [
    "s = \"this is my first python programing class and i am learning basics of python\""
   ]
  },
  {
   "cell_type": "code",
   "execution_count": 10,
   "id": "173fc6cf",
   "metadata": {},
   "outputs": [
    {
     "data": {
      "text/plain": [
       "'h   r tnrri a d  ai ssfyo'"
      ]
     },
     "execution_count": 10,
     "metadata": {},
     "output_type": "execute_result"
    }
   ],
   "source": [
    "s[1:300:3]"
   ]
  },
  {
   "cell_type": "markdown",
   "id": "a848a0f8",
   "metadata": {},
   "source": [
    "# 2) try to reverse a string without using reverse function"
   ]
  },
  {
   "cell_type": "code",
   "execution_count": 14,
   "id": "9b41d798",
   "metadata": {},
   "outputs": [
    {
     "data": {
      "text/plain": [
       "'nohtyp fo scisab gninrael ma i dna ssalc gnimargorp nohtyp tsrif ym si siht'"
      ]
     },
     "execution_count": 14,
     "metadata": {},
     "output_type": "execute_result"
    }
   ],
   "source": [
    "s[::-1]"
   ]
  },
  {
   "cell_type": "markdown",
   "id": "d172fd52",
   "metadata": {},
   "source": [
    "# 3) Try to split a string after conversion of entire string in uppercase"
   ]
  },
  {
   "cell_type": "code",
   "execution_count": 15,
   "id": "1fd8ed30",
   "metadata": {},
   "outputs": [],
   "source": [
    "n = \"i am a data scientist\""
   ]
  },
  {
   "cell_type": "code",
   "execution_count": 17,
   "id": "dd26425b",
   "metadata": {},
   "outputs": [
    {
     "data": {
      "text/plain": [
       "['I', 'AM', 'A', 'DATA', 'SCIENTIST']"
      ]
     },
     "execution_count": 17,
     "metadata": {},
     "output_type": "execute_result"
    }
   ],
   "source": [
    "n = n.upper()\n",
    "n.split(\" \")\n"
   ]
  },
  {
   "cell_type": "markdown",
   "id": "cbdb5987",
   "metadata": {},
   "source": [
    "# 4) Try to convert the whole string into lowercase"
   ]
  },
  {
   "cell_type": "code",
   "execution_count": 18,
   "id": "8e522f96",
   "metadata": {},
   "outputs": [
    {
     "data": {
      "text/plain": [
       "'i am a data scientist'"
      ]
     },
     "execution_count": 18,
     "metadata": {},
     "output_type": "execute_result"
    }
   ],
   "source": [
    "n.lower()"
   ]
  },
  {
   "cell_type": "markdown",
   "id": "bdc2fc6c",
   "metadata": {},
   "source": [
    "# 5) try to capitalize the whole string"
   ]
  },
  {
   "cell_type": "code",
   "execution_count": 19,
   "id": "ef38b3c5",
   "metadata": {},
   "outputs": [
    {
     "data": {
      "text/plain": [
       "'I am a data scientist'"
      ]
     },
     "execution_count": 19,
     "metadata": {},
     "output_type": "execute_result"
    }
   ],
   "source": [
    "n.capitalize()"
   ]
  },
  {
   "cell_type": "markdown",
   "id": "857d1c76",
   "metadata": {},
   "source": [
    "# 6) write a difference between isalnum() and isalpha()"
   ]
  },
  {
   "cell_type": "raw",
   "id": "36d28d03",
   "metadata": {},
   "source": [
    "if a string contains both alphabets and numbers the isalnum() gives true and even if only alphabets and only numbers also it will gives true\n",
    "if a string contains only alphabets then isalpha() gives true otherwise it gives false.\n",
    "\"examples are shown below\""
   ]
  },
  {
   "cell_type": "code",
   "execution_count": 25,
   "id": "665e8040",
   "metadata": {},
   "outputs": [
    {
     "data": {
      "text/plain": [
       "True"
      ]
     },
     "execution_count": 25,
     "metadata": {},
     "output_type": "execute_result"
    }
   ],
   "source": [
    "t = \"naveen023\"\n",
    "t.isalnum()"
   ]
  },
  {
   "cell_type": "code",
   "execution_count": 26,
   "id": "8e06bb00",
   "metadata": {},
   "outputs": [
    {
     "data": {
      "text/plain": [
       "False"
      ]
     },
     "execution_count": 26,
     "metadata": {},
     "output_type": "execute_result"
    }
   ],
   "source": [
    "s = \"naveen023\"\n",
    "s.isalpha()"
   ]
  },
  {
   "cell_type": "code",
   "execution_count": 27,
   "id": "72e9ee25",
   "metadata": {},
   "outputs": [
    {
     "data": {
      "text/plain": [
       "True"
      ]
     },
     "execution_count": 27,
     "metadata": {},
     "output_type": "execute_result"
    }
   ],
   "source": [
    "s = \"naveen\"\n",
    "s.isalpha()"
   ]
  },
  {
   "cell_type": "markdown",
   "id": "c59beb64",
   "metadata": {},
   "source": [
    "# 7) Try to give an example of expand tab"
   ]
  },
  {
   "cell_type": "code",
   "execution_count": 28,
   "id": "f3a81c20",
   "metadata": {},
   "outputs": [
    {
     "data": {
      "text/plain": [
       "'my      name    is      naveen'"
      ]
     },
     "execution_count": 28,
     "metadata": {},
     "output_type": "execute_result"
    }
   ],
   "source": [
    "l = \"my\\tname\\tis\\tnaveen\"\n",
    "l.expandtabs()"
   ]
  },
  {
   "cell_type": "markdown",
   "id": "fe5a70f8",
   "metadata": {},
   "source": [
    "# 8) Give an example of strip, lstrip and rstrip"
   ]
  },
  {
   "cell_type": "code",
   "execution_count": 29,
   "id": "aeba4ae8",
   "metadata": {},
   "outputs": [
    {
     "data": {
      "text/plain": [
       "'naveen'"
      ]
     },
     "execution_count": 29,
     "metadata": {},
     "output_type": "execute_result"
    }
   ],
   "source": [
    "n = \"   naveen   \"\n",
    "n.strip(\" \")"
   ]
  },
  {
   "cell_type": "code",
   "execution_count": 30,
   "id": "cedbde0c",
   "metadata": {},
   "outputs": [
    {
     "data": {
      "text/plain": [
       "'naveen   '"
      ]
     },
     "execution_count": 30,
     "metadata": {},
     "output_type": "execute_result"
    }
   ],
   "source": [
    "n.lstrip(\" \")"
   ]
  },
  {
   "cell_type": "code",
   "execution_count": 31,
   "id": "ef5e3c9c",
   "metadata": {},
   "outputs": [
    {
     "data": {
      "text/plain": [
       "'   naveen'"
      ]
     },
     "execution_count": 31,
     "metadata": {},
     "output_type": "execute_result"
    }
   ],
   "source": [
    "n.rstrip(\" \")"
   ]
  },
  {
   "cell_type": "markdown",
   "id": "fe71b477",
   "metadata": {},
   "source": [
    "# 9) Replace a string character by another character by taking your own example"
   ]
  },
  {
   "cell_type": "code",
   "execution_count": 32,
   "id": "e33bed1c",
   "metadata": {},
   "outputs": [
    {
     "data": {
      "text/plain": [
       "'I love playing Badminton'"
      ]
     },
     "execution_count": 32,
     "metadata": {},
     "output_type": "execute_result"
    }
   ],
   "source": [
    "t = \"I love playing cricket\"\n",
    "t.replace(\"cricket\",\"Badminton\")"
   ]
  },
  {
   "cell_type": "markdown",
   "id": "22e7e191",
   "metadata": {},
   "source": [
    "# 10) Try to give a definition of string center function with and example"
   ]
  },
  {
   "cell_type": "raw",
   "id": "6ab32558",
   "metadata": {},
   "source": [
    "this string center function will align the string to the center according to the space is available inside the string..\n",
    "\n",
    "example"
   ]
  },
  {
   "cell_type": "code",
   "execution_count": 33,
   "id": "e1396c4b",
   "metadata": {},
   "outputs": [
    {
     "data": {
      "text/plain": [
       "'                 naveen                 '"
      ]
     },
     "execution_count": 33,
     "metadata": {},
     "output_type": "execute_result"
    }
   ],
   "source": [
    "n = \"naveen\"\n",
    "n.center(40,\" \")"
   ]
  },
  {
   "cell_type": "markdown",
   "id": "ea41dae8",
   "metadata": {},
   "source": [
    "# 11) Write your own definition of complier and interpretor without copy paste form internet in your own language"
   ]
  },
  {
   "cell_type": "markdown",
   "id": "72b2046a",
   "metadata": {},
   "source": [
    "interpreter wil execute the code in a line by line and if any error is occured, it will stop execution and wlll not execute the remaining code.\n",
    "\n",
    "complier scans the entire program and execute the code at a time, so we can say that complier execute the code more faster than the interpreter."
   ]
  },
  {
   "cell_type": "markdown",
   "id": "aea27a30",
   "metadata": {},
   "source": [
    "# 12) Python is a interpreted of complied language give a clear answer with your understanding"
   ]
  },
  {
   "cell_type": "markdown",
   "id": "d3b0ec20",
   "metadata": {},
   "source": [
    "we will give a source code to the complier then the complier will make a setup of the workflow proces with the help of 4 components those are 1)lexing 2)parsing 3)compiler will generate the bytecode4)interpreter which is actually a virtual machine that is closer to the operating system that virtual machine will generate the machine code as a final code to get our output. "
   ]
  },
  {
   "cell_type": "markdown",
   "id": "e9314c8c",
   "metadata": {},
   "source": [
    "# 13) Try to write a usecase of python with your understanding"
   ]
  },
  {
   "cell_type": "markdown",
   "id": "0d738f30",
   "metadata": {},
   "source": [
    "python is very easy to learn and also it is having different type of libraries which are useful ML,DL,AI,CV,NLP."
   ]
  },
  {
   "cell_type": "code",
   "execution_count": null,
   "id": "21f367dd",
   "metadata": {},
   "outputs": [],
   "source": []
  }
 ],
 "metadata": {
  "kernelspec": {
   "display_name": "Python 3 (ipykernel)",
   "language": "python",
   "name": "python3"
  },
  "language_info": {
   "codemirror_mode": {
    "name": "ipython",
    "version": 3
   },
   "file_extension": ".py",
   "mimetype": "text/x-python",
   "name": "python",
   "nbconvert_exporter": "python",
   "pygments_lexer": "ipython3",
   "version": "3.9.12"
  }
 },
 "nbformat": 4,
 "nbformat_minor": 5
}
